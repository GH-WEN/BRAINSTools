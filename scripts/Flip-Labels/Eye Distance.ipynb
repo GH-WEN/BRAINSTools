{
 "cells": [
  {
   "cell_type": "code",
   "execution_count": 18,
   "metadata": {},
   "outputs": [],
   "source": [
    "from decimal import *"
   ]
  },
  {
   "cell_type": "code",
   "execution_count": 19,
   "metadata": {},
   "outputs": [],
   "source": [
    "FILE = \"../modified_data/TRIO_TRIO_MR2.fcsv\"\n",
    "fiducialFile = open(FILE, 'r')\n",
    "fileLines = fiducialFile.readlines()"
   ]
  },
  {
   "cell_type": "code",
   "execution_count": 20,
   "metadata": {},
   "outputs": [
    {
     "name": "stdout",
     "output_type": "stream",
     "text": [
      "['31.161899616904737', '50.2240217484315', '-22.65253372066924']\n",
      "['-31.621996457525082', '49.76616030541939', '-23.31519973240224']\n"
     ]
    }
   ],
   "source": [
    "\n",
    "for line in fileLines:\n",
    "    label = line.split(',')\n",
    "    if (label[0] == 'RE'):\n",
    "        reLocation = label[1:4]\n",
    "    if (label[0] == 'LE'):\n",
    "        leLocation = label[1:4]\n",
    "print(reLocation)\n",
    "print(leLocation)\n",
    "        "
   ]
  },
  {
   "cell_type": "code",
   "execution_count": 22,
   "metadata": {},
   "outputs": [
    {
     "name": "stdout",
     "output_type": "stream",
     "text": [
      "32.161899616904737\n",
      "62.78906250000000826956334037\n"
     ]
    }
   ],
   "source": [
    "sum = 0\n",
    "test = Decimal(reLocation[0]) + 1\n",
    "print(test)\n",
    "for index, coord in enumerate(reLocation):\n",
    "    sum += (Decimal(reLocation[index]) - Decimal(leLocation[index]))**2\n",
    "distance = Decimal(sum).sqrt()\n",
    "print(distance)"
   ]
  },
  {
   "cell_type": "code",
   "execution_count": null,
   "metadata": {},
   "outputs": [],
   "source": []
  }
 ],
 "metadata": {
  "kernelspec": {
   "display_name": "Python 2",
   "language": "python",
   "name": "python2"
  },
  "language_info": {
   "codemirror_mode": {
    "name": "ipython",
    "version": 2
   },
   "file_extension": ".py",
   "mimetype": "text/x-python",
   "name": "python",
   "nbconvert_exporter": "python",
   "pygments_lexer": "ipython2",
   "version": "2.7.15"
  }
 },
 "nbformat": 4,
 "nbformat_minor": 2
}

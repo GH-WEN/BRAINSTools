{
 "cells": [
  {
   "cell_type": "code",
   "execution_count": 36,
   "metadata": {},
   "outputs": [],
   "source": [
    "import pandas as pd\n",
    "import os\n",
    "from os.path import dirname\n",
    "import SimpleITK as sitk\n",
    "import numpy as np\n",
    "import itk\n",
    "import matplotlib.pyplot as plt\n",
    "import re\n",
    "modifyDir = \"modified_data\"\n",
    "dense_compact_seg_file_name = \"TRIO_TRIO_MR2_dense_seg.nii.gz\"\n",
    "newImageName = \"TRIO_TRIO_MR2_dense_seg_LeftRightIndependent.nii.gz\"\n",
    "lookupTableFileName = \"BAWHDAdultAtlas_FreeSurferConventionColorLUT_20160524.txt\"\n",
    "newlookupTableFileName = \"BAWHDAdultAtlas_FreeSurferConventionColorLUT_LeftRightIndependent.txt\""
   ]
  },
  {
   "cell_type": "code",
   "execution_count": 40,
   "metadata": {},
   "outputs": [
    {
     "name": "stdout",
     "output_type": "stream",
     "text": [
      "/Shared/johnsonhj/2018Projects/20181112_RecodeLabelMaps/modified_data/BAWHDAdultAtlas_FreeSurferConventionColorLUT_20160524.txt\n",
      "/Shared/johnsonhj/2018Projects/20181112_RecodeLabelMaps/src\n"
     ]
    },
    {
     "name": "stderr",
     "output_type": "stream",
     "text": [
      "Skipping line 1083: expected 6 fields, saw 7\n",
      "Skipping line 1089: expected 6 fields, saw 7\n",
      "Skipping line 1092: expected 6 fields, saw 7\n",
      "\n"
     ]
    }
   ],
   "source": [
    "# Get the path of the lookup table to be modified\n",
    "lookupTablePath = os.path.join(dirname(os.getcwd()), modifyDir, lookupTableFileName)\n",
    "print(lookupTablePath)\n",
    "print(os.getcwd())\n",
    "# Create a data frame from the file containing the lookup table\n",
    "df = pd.read_table(lookupTablePath, error_bad_lines=False, comment=\"#\")"
   ]
  },
  {
   "cell_type": "code",
   "execution_count": 32,
   "metadata": {},
   "outputs": [],
   "source": [
    "origIndexByLabel = {}\n",
    "# Create a dictionary associating a Label with a Number\n",
    "origIndexByLabel = dict(zip(df['Label'], df['No.']))\n",
    "oldLabelList = df.index.tolist()\n",
    "\n",
    "\n",
    "newLabelList = []\n",
    "indexByLabel = {}\n",
    "newIndexByOldIndex = {}\n",
    "\n",
    "# Remove all right or left indications in the dataframe\n",
    "# for index, label in enumerate(df['Label']):\n",
    "for index, row in df.iterrows():\n",
    "    label = row['Label']\n",
    "    label = re.sub(r'Left|Right|left|right|lh|rh|', '', label)\n",
    "    label = re.sub(r'^L[A-Z].*|^R[A-Z].*', label[1:], label)\n",
    "    label = re.sub(r'^-', '', label)\n",
    "    \n",
    "    if label not in indexByLabel:\n",
    "        # If a right or left indicator was removed from a label, rewrite the label\n",
    "        newIndexByOldIndex[row['No.']] = row['No.']\n",
    "        indexByLabel[label] = row['No.']\n",
    "    else:\n",
    "        newIndexByOldIndex[row['No.']] = indexByLabel[label]\n",
    "    newLabelList.append(label)\n",
    "       \n",
    "    \n",
    "# Rewrite the label column with the right and left indicators removed\n",
    "df['Label'] = newLabelList\n",
    "# Rewrite the number for labels so that the right and left of a label are identified by the same number\n",
    "df['No.'] = newIndexByOldIndex.values()"
   ]
  },
  {
   "cell_type": "code",
   "execution_count": 33,
   "metadata": {},
   "outputs": [],
   "source": [
    "# Make a file for the new lookup table\n",
    "newLookupTablePath = os.path.join(dirname(os.getcwd()), modifyDir, newlookupTableFileName)\n",
    "# Create the dataframe for the new file\n",
    "df.to_csv(newLookupTablePath, sep='\\t', index=False)"
   ]
  },
  {
   "cell_type": "code",
   "execution_count": 34,
   "metadata": {},
   "outputs": [],
   "source": [
    "# Get the image for which the labels will be rewritten\n",
    "dense_compact_path = os.path.join(dirname(os.getcwd()), modifyDir, dense_compact_seg_file_name)\n",
    "image = sitk.ReadImage(dense_compact_path)"
   ]
  },
  {
   "cell_type": "code",
   "execution_count": 35,
   "metadata": {},
   "outputs": [],
   "source": [
    "# Alter the image so that its labels are referenced only by the new indices (get rid of half of the indices)\n",
    "imageFilter = sitk.ChangeLabelImageFilter()\n",
    "newImage = imageFilter.Execute(image, newIndexByOldIndex)\n",
    "newImagePath = os.path.join(dirname(os.getcwd()), modifyDir, newImageName)\n",
    "sitk.WriteImage(newImage, newImagePath)"
   ]
  },
  {
   "cell_type": "code",
   "execution_count": null,
   "metadata": {},
   "outputs": [],
   "source": []
  }
 ],
 "metadata": {
  "kernelspec": {
   "display_name": "Python 2",
   "language": "python",
   "name": "python2"
  },
  "language_info": {
   "codemirror_mode": {
    "name": "ipython",
    "version": 2
   },
   "file_extension": ".py",
   "mimetype": "text/x-python",
   "name": "python",
   "nbconvert_exporter": "python",
   "pygments_lexer": "ipython2",
   "version": "2.7.15"
  }
 },
 "nbformat": 4,
 "nbformat_minor": 2
}
